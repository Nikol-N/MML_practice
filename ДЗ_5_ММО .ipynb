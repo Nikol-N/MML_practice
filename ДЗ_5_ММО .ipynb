{
 "cells": [
  {
   "cell_type": "markdown",
   "id": "626e51a7-07f9-411a-bbf7-a726d2f0df3a",
   "metadata": {},
   "source": [
    "#### Линейная регрессия и градиентный спуск"
   ]
  },
  {
   "cell_type": "code",
   "execution_count": 1,
   "id": "f90c9d23-23cf-4154-ab12-671eadf01433",
   "metadata": {},
   "outputs": [],
   "source": [
    "import numpy as np"
   ]
  },
  {
   "cell_type": "code",
   "execution_count": 2,
   "id": "c9c040bb-c9df-491e-851b-b233e91f8620",
   "metadata": {},
   "outputs": [],
   "source": [
    "np.random.seed(42) \n",
    "\n",
    "# создаём np-массив из 1000 случайных чисел в диапазоне 0..1\n",
    "sz = 1000\n",
    "x = np.random.rand(sz, 1) \n",
    "\n",
    "# строим линейную функцию y = f(x) и добавляем шум к зависимой переменной\n",
    "y = 1 + 2 * x  + 0.1 * np.random.randn(sz, 1) \n",
    "\n",
    "# формируем индексы от 0 до 999 и случайным образом их распределяем\n",
    "idx = np.arange(sz)\n",
    "np.random.shuffle(idx)\n",
    "train_idx = idx"
   ]
  },
  {
   "cell_type": "code",
   "execution_count": 3,
   "id": "1d35c2cb-490d-4d6f-8444-fa85809103fc",
   "metadata": {},
   "outputs": [],
   "source": [
    "# формируем обучающие выборки зависимой и независимой переменных\n",
    "x_train, y_train = x[train_idx], y[train_idx]"
   ]
  },
  {
   "cell_type": "code",
   "execution_count": 4,
   "id": "ff9b9efb-2a22-4a40-bbd1-78699c2ddf97",
   "metadata": {},
   "outputs": [
    {
     "name": "stdout",
     "output_type": "stream",
     "text": [
      "[-1.11714133] [-1.01209489]\n"
     ]
    }
   ],
   "source": [
    "# задаём начальные случайные значения коэффициентам линейной регрессии\n",
    "a = np.random.randn(1)\n",
    "b = np.random.randn(1)\n",
    "print(a,b)"
   ]
  },
  {
   "cell_type": "code",
   "execution_count": 5,
   "id": "804141d0-9d76-4651-ad96-ae856d18ecad",
   "metadata": {},
   "outputs": [],
   "source": [
    "# задаем скорость обучения\n",
    "lr = 0.01\n",
    "# задаем количество итераций\n",
    "n_iters = 10000"
   ]
  },
  {
   "cell_type": "code",
   "execution_count": 6,
   "id": "08bf10a7-35b0-4437-8f24-7513d23b6a33",
   "metadata": {},
   "outputs": [
    {
     "name": "stdout",
     "output_type": "stream",
     "text": [
      "[1.01747902] [1.9845196]\n"
     ]
    }
   ],
   "source": [
    "for iter in range(n_iters):\n",
    "\n",
    "    # рассчитываем результирующий массив с текущими коэффициентами a и b на основе обучающей выборки \n",
    "    yhat = a + b * x_train\n",
    "    \n",
    "    # считаем отклонение нового результата от обучающего, то есть определяем потери \n",
    "    error = (y_train - yhat)\n",
    "    \n",
    "    # считаем градиенты для коэффициентов a и b\n",
    "    a_grad = -2 * error.mean()\n",
    "    b_grad = -2 * (x_train * error).mean()\n",
    "\n",
    "    # обновляем значения коэффициентов уравнения линейной регрессии, используя коэффициент скорости обучения\n",
    "    a = a - lr * a_grad\n",
    "    b = b - lr * b_grad\n",
    "    \n",
    "print(a,b)   "
   ]
  }
 ],
 "metadata": {
  "kernelspec": {
   "display_name": "Python 3 (ipykernel)",
   "language": "python",
   "name": "python3"
  },
  "language_info": {
   "codemirror_mode": {
    "name": "ipython",
    "version": 3
   },
   "file_extension": ".py",
   "mimetype": "text/x-python",
   "name": "python",
   "nbconvert_exporter": "python",
   "pygments_lexer": "ipython3",
   "version": "3.11.7"
  }
 },
 "nbformat": 4,
 "nbformat_minor": 5
}
